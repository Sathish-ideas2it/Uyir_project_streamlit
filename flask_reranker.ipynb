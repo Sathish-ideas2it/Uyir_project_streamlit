{
 "cells": [
  {
   "cell_type": "code",
   "execution_count": 1,
   "id": "70c3c3c7",
   "metadata": {},
   "outputs": [],
   "source": [
    "from langchain_openai import OpenAIEmbeddings\n",
    "from langchain_chroma import Chroma\n",
    "\n",
    "# details here: https://openai.com/blog/new-embedding-models-and-api-updates\n",
    "openai_embed_model = OpenAIEmbeddings(model='text-embedding-3-small')"
   ]
  },
  {
   "cell_type": "code",
   "execution_count": 2,
   "id": "a0d04391",
   "metadata": {},
   "outputs": [
    {
     "data": {
      "text/plain": [
       "<langchain_chroma.vectorstores.Chroma at 0x7e9963fdcd50>"
      ]
     },
     "execution_count": 2,
     "metadata": {},
     "output_type": "execute_result"
    }
   ],
   "source": [
    "# load from disk\n",
    "chroma_db = Chroma(persist_directory=\"chroma_db\",\n",
    "                   collection_name='multimodal_docs',\n",
    "                   embedding_function=openai_embed_model)\n",
    "chroma_db"
   ]
  },
  {
   "cell_type": "code",
   "execution_count": 3,
   "id": "71c3952c",
   "metadata": {},
   "outputs": [],
   "source": [
    "similarity_retriever = chroma_db.as_retriever(search_type=\"similarity\",\n",
    "                                              search_kwargs={\"k\": 10})"
   ]
  },
  {
   "cell_type": "code",
   "execution_count": 4,
   "id": "7ecae30f",
   "metadata": {},
   "outputs": [],
   "source": [
    "from IPython.display import display, Markdown\n",
    "def display_docs(docs):\n",
    "    for doc in docs:\n",
    "        filename = doc.metadata.get('filename', 'Unknown file')\n",
    "        page_num = doc.metadata.get('page_number', 'Unknown page')\n",
    "        print(f'Metadata: filename = {filename}, page_number = {page_num}')\n",
    "        print('Content Brief:')\n",
    "        display(Markdown(doc.page_content[:1000]))\n",
    "        print()"
   ]
  },
  {
   "cell_type": "code",
   "execution_count": 5,
   "id": "e908de39",
   "metadata": {},
   "outputs": [
    {
     "name": "stdout",
     "output_type": "stream",
     "text": [
      "Metadata: filename = Hashimotos.pdf, page_number = 304\n",
      "Content Brief:\n"
     ]
    },
    {
     "data": {
      "text/markdown": [
       "• Alpha-lipoic acid is a sulfur-containing supplement that can help reduce heavy metals and increase glutathione levels. Take 100 to 300 mg per day. (Avoid with CBS gene mutation.)\n",
       "\n",
       "A note about fiber: Ideally, you will have cleared out any gut infections, especially SIBO, as you’re working on detoxification. Detoxification protocols that contain fiber can aggravate SIBO, dysbiosis, and other types of gut imbalances.\n",
       "\n",
       "If you do have toxins in your body, it may also help to continue taking vitamin C, a multivitamin, betaine with pepsin (heavy metals deplete stomach acid), probiotics, magnesium, zinc, selenium, and NAC as you work on clearing them out of your body. Furthermore, you may also want to repeat the Fundamental Liver Support Protocol while detoxifying.\n",
       "\n",
       "It may also be helpful to ensure that your urine is alkaline, which can increase the elimination of toxins. A urine pH above 7 is recommended. If you find that your urine pH continues to be lower (or more acidic), you can try su"
      ],
      "text/plain": [
       "<IPython.core.display.Markdown object>"
      ]
     },
     "metadata": {},
     "output_type": "display_data"
    },
    {
     "name": "stdout",
     "output_type": "stream",
     "text": [
      "\n",
      "Metadata: filename = hsmp-rc-copper-guide.pdf, page_number = 1\n",
      "Content Brief:\n"
     ]
    },
    {
     "data": {
      "text/markdown": [
       "HASHIMOTO'S\n",
       "\n",
       "ROOT CAUSE: Copper Toxicity Guide\n",
       "\n",
       "1\n",
       "\n",
       "1\n",
       "\n",
       "WHAT IS COPPER TOXICITY?\n",
       "\n",
       "Copper toxicity may occur when we ingest water (due to old copper pipes), food that contains excess copper, multivitamins, and birth control pills. It may also occur if we have poor adrenal function, excess estrogen, a copper IUD, and some dental procedures.\n",
       "\n",
       "SYMPTOMS\n",
       "\n",
       "n Fatigue\n",
       "\n",
       "n Irritability\n",
       "\n",
       "n Anxiety\n",
       "\n",
       "n Emotional lability\n",
       "\n",
       "n Hair turning orange\n",
       "\n",
       "n Acne\n",
       "\n",
       "n Poor concentration\n",
       "\n",
       "n Skin rashes\n",
       "\n",
       "n Poor wound healing\n",
       "\n",
       "TESTING\n",
       "\n",
       "There are a few tests that can be done for copper toxicity:\n",
       "\n",
       "n Hair Toxic Element Exposure - Doctor’s Data KIT. You can order this test through my Rupa Health or Direct Labs channels.\n",
       "\n",
       "• May show up directly, as elevated copper.\n",
       "\n",
       "• Can also be hidden (copper looks normal, but high calcium and low zinc/copper ratio, or high calcium, high mercury)\n",
       "\n",
       "n May show up in bloodwork as low alkaline phosphatase\n",
       "\n",
       "n Provoked Urine Test using DMPS or DMSA (chelating agents) will show it (you will nee"
      ],
      "text/plain": [
       "<IPython.core.display.Markdown object>"
      ]
     },
     "metadata": {},
     "output_type": "display_data"
    },
    {
     "name": "stdout",
     "output_type": "stream",
     "text": [
      "\n",
      "Metadata: filename = Hashimotos.pdf, page_number = 302\n",
      "Content Brief:\n"
     ]
    },
    {
     "data": {
      "text/markdown": [
       "METAL ToxiciTy SOURCES\n",
       "\n",
       "Metal Food Sources Environmental Practices to Aid Sources Clearance Nickel Chocolate, nuts, _—_ Stainless steel Take vitamin C canned foods, cookware and with each meal, black tea, shell- utensils, vitamins — eat a high-iron fish, processed with nickel, tap diet, take a zinc meats with fillings water supplement, and or casings, beans, replace stainless lentils, soy, peas, steel cookware. wheat, oatmeal, Sweat! buckwheat, seeds, bean sprouts, Brussels sprouts, asparagus, broc- coli, cauliflower, spinach, canned\n",
       "\n",
       "Lead Rice from China, Indoor dust, cos- Take vitamin D, wild game shot metics (such as exercise, and eat with lead bullets, _ lipsticks), gaso- greens. wine line, crystals, toys from China, lead pipes Arsenic Rice, chicken, Well water, Take turmeric, shellfish lipsticks, in- NAC, and chloro- secticides, phyll. Take meth- copper-treated ylation support wood, Ayurvedic — supplements like supplements those used for the MTHFR gene mutation. Mercury Certain fi"
      ],
      "text/plain": [
       "<IPython.core.display.Markdown object>"
      ]
     },
     "metadata": {},
     "output_type": "display_data"
    },
    {
     "name": "stdout",
     "output_type": "stream",
     "text": [
      "\n",
      "Metadata: filename = Hashimotos.pdf, page_number = 116\n",
      "Content Brief:\n"
     ]
    },
    {
     "data": {
      "text/markdown": [
       "8. Greens juices and chlorophyll: Green juices are full of healing nutrients! Since they are in liquid form, they also make the nutrients easily digestible and accessible. In addition to the numerous vitamins they offer, green juices are also wonderful sources of chlorophyll, a green pigment contained in plants. Chlorophyll has been found to have various health benefits, including detoxification, reduced inflammation and oxidative stress, raised iron levels, and even natural deodorization by neutralizing odors. Juices are an excellent way to boost energy any time of day! Green juices should be primarily composed of vegetables with some fruit like green apples for flavor. Using a specialized juicer, known as a masticating juicer that “chews” the vegetables instead of cutting them, you can make yourself a batch of juice that can be sipped all day. On the go, you can buy chlorophyll in drop form and add it to your drinks.\n",
       "\n",
       "Green Juice\n",
       "\n",
       "6–7 baby carrots 1 Granny Smith apple 3–4 stalks of c"
      ],
      "text/plain": [
       "<IPython.core.display.Markdown object>"
      ]
     },
     "metadata": {},
     "output_type": "display_data"
    },
    {
     "name": "stdout",
     "output_type": "stream",
     "text": [
      "\n",
      "Metadata: filename = Mercury Exposure and Hashimoto’s_article_content.txt, page_number = 1\n",
      "Content Brief:\n"
     ]
    },
    {
     "data": {
      "text/markdown": [
       "Highlights an herbal metal detox protocol aimed at reducing mercury toxicity, particularly for individuals with Hashimoto's disease. It emphasizes the use of concentrated cilantro to mobilize heavy metals, alongside a fiber mixture with activated charcoal to absorb toxins from the gut. The protocol also recommends supplementation with magnesium citrate and alpha-lipoic acid to support detoxification and maintain optimal urine alkalinity. Overall, it underscores the importance of a comprehensive approach to detoxification, considering individual health conditions and potential gut imbalances.\n",
       "Herbal Metal Detox Protocol:\n",
       "\n",
       "Useconcentrated cilantroto mobilize the heavy metal toxins.Take 2 drops twice per day before meals (or 30 minutes after charcoal or psyllium mixture) for 1 week on/3 weeks off; may repeat for 1 week each monthPlease note: no matter how “gentle,” chelating agents will displace mercury from where it’s stored, and without using a binding agent to remove the mercury from t"
      ],
      "text/plain": [
       "<IPython.core.display.Markdown object>"
      ]
     },
     "metadata": {},
     "output_type": "display_data"
    },
    {
     "name": "stdout",
     "output_type": "stream",
     "text": [
      "\n",
      "Metadata: filename = Air Quality and Hashimoto’s – Is the Air You’re Breathing Making You Sick_article_content.txt, page_number = 1\n",
      "Content Brief:\n"
     ]
    },
    {
     "data": {
      "text/markdown": [
       "Highlights dietary strategies to support liver detoxification and overall thyroid health for individuals with Hashimoto's disease. It emphasizes the importance of an anti-inflammatory and alkaline diet, incorporating cruciferous vegetables and broccoli sprouts, which enhance the liver's detoxification processes. The section also recommends filtering water to reduce harmful toxins and suggests herbal remedies like dandelion tea to stimulate bile production, further aiding in detoxification.\n",
       "DIET\n",
       "\n",
       "Eat an anti\n",
       "\n",
       "inflammatory and alkaline diet– This type of diet helps take some of the stress off of your liver and also supports the detox of impaired liver pathways.Cruciferous vegetables(broccoli, kale, cabbage, cauliflower, etc.) and other green foods rich in potassium are great for this. (38) Here’s an article about thebest dietsfor people with Hashimoto’s (note that refined sugar and reactive foods such as gluten are not a staple in any of these!).\n",
       "\n",
       "Consume broccoli sprouts– Broccoli sprou"
      ],
      "text/plain": [
       "<IPython.core.display.Markdown object>"
      ]
     },
     "metadata": {},
     "output_type": "display_data"
    },
    {
     "name": "stdout",
     "output_type": "stream",
     "text": [
      "\n",
      "Metadata: filename = Hashimotos.pdf, page_number = 243\n",
      "Content Brief:\n"
     ]
    },
    {
     "data": {
      "text/markdown": [
       "Root CAUSE ROTATION DiET MEAL IDEAS\n",
       "\n",
       "Snacks Beef jerky Sardines, Olives and Avocado and blue- dried coco- __ pickles, with beets, berries nut flakes papaya plum sauce\n",
       "\n",
       "Additional Modifications for Specific Symptoms\n",
       "\n",
       "The Root Cause dietary modifications, including those introduced in the Fundamental Protocols (Root Cause Intro, Paleo, and Autoimmune Diets) and the one you just learned about in this chapter (Root Cause Rotation Diet), are based on my personal experience with numerous diets and clinical experience\n",
       "\n",
       "with my clients. These diets are meant to be a starting point for you and may need to be tailored to your individual needs and response.\n",
       "\n",
       "Your personal combination of your ethnic background, current health status, environment, stress levels, infections, toxin exposure, and symptoms can further guide your dietary modifications. Here are some specific dietary modifications you can consider based on your symptoms or underlying triggers:\n",
       "\n",
       "• Fructose malabsorption or blood sugar abn"
      ],
      "text/plain": [
       "<IPython.core.display.Markdown object>"
      ]
     },
     "metadata": {},
     "output_type": "display_data"
    },
    {
     "name": "stdout",
     "output_type": "stream",
     "text": [
      "\n",
      "Metadata: filename = hsmp-rc-copper-guide.pdf, page_number = 4\n",
      "Content Brief:\n"
     ]
    },
    {
     "data": {
      "text/markdown": [
       "Context:\n",
       "Copper Free Multi (Nutrient 950) 6/day 6/day Copper, iodine free, iron free Zinc 10-25mg/day 50mg/day Balance out Copper Manganese 5-15 mg/day 30mg/day Displaces Copper Iron Check with your practitioner Check with your practitioner Displaces Copper from liver Vitamin C 500mg- 3000mg/day 5000mg/day Chelates Copper B6 50-200mg/day 300mg/day Supports Adrenals Sulphur rich, Alpha Lipoic Acid 50mg-150mg/day 200mg/day chelates heavy metals/copper Molybdenum 100mcg/day 250mcg/day Clears Copper from bloodstream Magnesium 4 capsules daily 4 capsules daily Calms Anxiety\n",
       "\n",
       "| Name                          | Dose                | Max                | Indication                                   |\n",
       "|-------------------------------|---------------------|---------------------|----------------------------------------------|\n",
       "| Copper Free Multi (Nutrient 950) | 6/day               | 6/day               | Copper, iodine free, iron free               |\n",
       "| Zinc                          | 10-25mg/day "
      ],
      "text/plain": [
       "<IPython.core.display.Markdown object>"
      ]
     },
     "metadata": {},
     "output_type": "display_data"
    },
    {
     "name": "stdout",
     "output_type": "stream",
     "text": [
      "\n",
      "Metadata: filename = hsmp-copper-toxicity-screen.pdf, page_number = 1\n",
      "Content Brief:\n"
     ]
    },
    {
     "data": {
      "text/markdown": [
       "HASHIMOTO'S SELF-MANAGEMENT PROGRAM\n",
       "\n",
       "MODULE 6: Copper Toxicity Screen\n",
       "\n",
       "Hashimoto’s Self-Management Program Module 6: Copper Toxicity Screen 1\n",
       "\n",
       "Hashimoto’s Self-Management Program Module 6: Copper Toxicity Screen\n",
       "\n",
       "1\n",
       "\n",
       "COPPER TOXICITY SCREEN\n",
       "\n",
       "SYMPTOMS YES NO Anxiety 1 0 Irritability/Depression/Tantrums 1 0 Fatigue 1 0 Poor concentration 1 0 Reddish tint to hair 1 0 High intake of avocados, nuts, seeds, chocolate and shellfish 1 0 Copper tea kettles 1 0 Female gender 1 0 Using oral contraceptives/estrogen dominance 1 0 PMS 1 0 Acne 1 0 Skin rashes 1 0 Poor wound healing 1 0 Blue-green stains in bathtub, toilet or sink 1 0\n",
       "\n",
       "Add up your points here:\n",
       "\n",
       "LOW RISK 0 INTERMEDIATE RISK 1 - 3 HIGH RISK 4+\n",
       "\n",
       "Hashimoto’s Self-Management Program Module 6: Copper Toxicity Screen 1\n",
       "\n",
       "1\n",
       "\n",
       "Disclaimer: None of the statements in the Hashimoto’s Self-Management Program have been evaluated by the FDA, or any other government body.\n",
       "\n",
       "The opinions expressed, while based on scientific research and experience, are the"
      ],
      "text/plain": [
       "<IPython.core.display.Markdown object>"
      ]
     },
     "metadata": {},
     "output_type": "display_data"
    },
    {
     "name": "stdout",
     "output_type": "stream",
     "text": [
      "\n",
      "Metadata: filename = How Your Gallbladder Affects Hashimoto’s and Fat Digestion_article_content.txt, page_number = 1\n",
      "Content Brief:\n"
     ]
    },
    {
     "data": {
      "text/markdown": [
       "Highlights dietary recommendations for individuals with gallbladder issues and Hashimoto's disease, emphasizing the importance of avoiding foods that may exacerbate gallbladder problems, such as those high in sugar and processed ingredients. It suggests increasing healthy fat intake and fiber while considering an elimination diet to identify personal food sensitivities. Additionally, it discusses the benefits of liver-supporting foods and supplements, including magnesium, to aid detoxification and overall health.\n",
       "The typical dosage is one or two capsules per meal. However, the dosage may need to be tailored to your individual needs, so I recommend consulting with your practitioner to find the right dosage for you.\n",
       "\n",
       "6.Bothmagnesium citrateormagnesium glycinatecan be helpful(note that magnesium citrate has a stool-softening effect, so the glycinate version may be a better option if you are experiencing diarrhea with the citrate version), as many people are deficient inmagnesium,and it is"
      ],
      "text/plain": [
       "<IPython.core.display.Markdown object>"
      ]
     },
     "metadata": {},
     "output_type": "display_data"
    },
    {
     "name": "stdout",
     "output_type": "stream",
     "text": [
      "\n"
     ]
    }
   ],
   "source": [
    "query = \"What foods are recommended in a copper detox diet?\"\n",
    "top_docs = similarity_retriever.invoke(query)\n",
    "display_docs(top_docs)"
   ]
  },
  {
   "cell_type": "code",
   "execution_count": null,
   "id": "de15a315",
   "metadata": {},
   "outputs": [
    {
     "name": "stdout",
     "output_type": "stream",
     "text": [
      "Note: you may need to restart the kernel to use updated packages.\n"
     ]
    }
   ],
   "source": [
    "#%pip install --upgrade --quiet  flashrank"
   ]
  },
  {
   "cell_type": "code",
   "execution_count": 11,
   "id": "7d7eef21",
   "metadata": {},
   "outputs": [],
   "source": [
    "# Doing reranking with FlashRank\n",
    "from langchain.retrievers import ContextualCompressionRetriever\n",
    "from langchain_community.document_compressors import FlashrankRerank\n",
    "from flashrank import Ranker"
   ]
  },
  {
   "cell_type": "code",
   "execution_count": null,
   "id": "9d22a0d6",
   "metadata": {},
   "outputs": [
    {
     "name": "stderr",
     "output_type": "stream",
     "text": [
      "INFO:httpx:HTTP Request: POST https://api.openai.com/v1/embeddings \"HTTP/1.1 200 OK\"\n"
     ]
    },
    {
     "name": "stdout",
     "output_type": "stream",
     "text": [
      "[6, 2, 9]\n",
      "Root CAUSE ROTATION DiET MEAL IDEAS\n",
      "\n",
      "Snacks Beef jerky Sardines, Olives and Avocado and blue- dried coco- __ pickles, with beets, berries nut flakes papaya plum sauce\n",
      "\n",
      "Additional Modifications for Specific Symptoms\n",
      "\n",
      "The Root Cause dietary modifications, including those introduced in the Fundamental Protocols (Root Cause Intro, Paleo, and Autoimmune Diets) and the one you just learned about in this chapter (Root Cause Rotation Diet), are based on my personal experience with numerous diets and clinical experience\n",
      "\n",
      "with my clients. These diets are meant to be a starting point for you and may need to be tailored to your individual needs and response.\n",
      "\n",
      "Your personal combination of your ethnic background, current health status, environment, stress levels, infections, toxin exposure, and symptoms can further guide your dietary modifications. Here are some specific dietary modifications you can consider based on your symptoms or underlying triggers:\n",
      "\n",
      "• Fructose malabsorption or blood sugar abn\n",
      "==================================================\n",
      "METAL ToxiciTy SOURCES\n",
      "\n",
      "Metal Food Sources Environmental Practices to Aid Sources Clearance Nickel Chocolate, nuts, _—_ Stainless steel Take vitamin C canned foods, cookware and with each meal, black tea, shell- utensils, vitamins — eat a high-iron fish, processed with nickel, tap diet, take a zinc meats with fillings water supplement, and or casings, beans, replace stainless lentils, soy, peas, steel cookware. wheat, oatmeal, Sweat! buckwheat, seeds, bean sprouts, Brussels sprouts, asparagus, broc- coli, cauliflower, spinach, canned\n",
      "\n",
      "Lead Rice from China, Indoor dust, cos- Take vitamin D, wild game shot metics (such as exercise, and eat with lead bullets, _ lipsticks), gaso- greens. wine line, crystals, toys from China, lead pipes Arsenic Rice, chicken, Well water, Take turmeric, shellfish lipsticks, in- NAC, and chloro- secticides, phyll. Take meth- copper-treated ylation support wood, Ayurvedic — supplements like supplements those used for the MTHFR gene mutation. Mercury Certain fi\n",
      "==================================================\n",
      "Highlights dietary recommendations for individuals with gallbladder issues and Hashimoto's disease, emphasizing the importance of avoiding foods that may exacerbate gallbladder problems, such as those high in sugar and processed ingredients. It suggests increasing healthy fat intake and fiber while considering an elimination diet to identify personal food sensitivities. Additionally, it discusses the benefits of liver-supporting foods and supplements, including magnesium, to aid detoxification and overall health.\n",
      "The typical dosage is one or two capsules per meal. However, the dosage may need to be tailored to your individual needs, so I recommend consulting with your practitioner to find the right dosage for you.\n",
      "\n",
      "6.Bothmagnesium citrateormagnesium glycinatecan be helpful(note that magnesium citrate has a stool-softening effect, so the glycinate version may be a better option if you are experiencing diarrhea with the citrate version), as many people are deficient inmagnesium,and it is\n",
      "==================================================\n"
     ]
    }
   ],
   "source": [
    "ranker = Ranker(model_name=\"ms-marco-MiniLM-L-12-v2\")\n",
    "compressor = FlashrankRerank(client=ranker, model=\"ms-marco-MiniLM-L-12-v2\", top_n=3)\n",
    "compression_retriever = ContextualCompressionRetriever(\n",
    "    base_compressor=compressor, base_retriever=similarity_retriever\n",
    ")\n",
    "\n",
    "compressed_docs = compression_retriever.invoke(\n",
    "    \"What foods are recommended in a copper detox diet?\"\n",
    ")\n",
    "print([doc.metadata[\"id\"] for doc in compressed_docs])\n",
    "\n",
    "\n",
    "for doc in compressed_docs:\n",
    "    print(doc.page_content[:1000])\n",
    "    print('='*50)"
   ]
  },
  {
   "cell_type": "code",
   "execution_count": null,
   "id": "04fd4241",
   "metadata": {},
   "outputs": [],
   "source": []
  }
 ],
 "metadata": {
  "kernelspec": {
   "display_name": "Python 3",
   "language": "python",
   "name": "python3"
  },
  "language_info": {
   "codemirror_mode": {
    "name": "ipython",
    "version": 3
   },
   "file_extension": ".py",
   "mimetype": "text/x-python",
   "name": "python",
   "nbconvert_exporter": "python",
   "pygments_lexer": "ipython3",
   "version": "3.11.13"
  }
 },
 "nbformat": 4,
 "nbformat_minor": 5
}
